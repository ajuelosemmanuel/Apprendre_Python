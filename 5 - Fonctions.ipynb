{
 "cells": [
  {
   "cell_type": "markdown",
   "metadata": {},
   "source": [
    "# Les Fonctions\n",
    "\n",
    "Pour l'instant, nous avons tapé plusieurs lignes, mais, au final, notre code est difficilement réutilisable. En effet, nous devrions copier-coller une suite d'intructions si nous souhaitions l'utiliser à plusieurs endroits dans le code. Cela peut être \"passable\" dans un fichier très petit, mais sur un programme plus conséquent, qui ferait par exemple 10 000 lignes, ce n'est pas acceptable. De plus, si nous souhaitions modifier cette suite d'instruction, nous devrions aller la chercher à chaque endroit qui la contient, ce qui est bien trop chronophage.\n",
    "\n",
    "Et, évidemment, si je vous parle de ce problème, c'est qu'il existe une solution : les fonctions.\n",
    "\n",
    "Les fonctions contiennent des instructions, des arguments (ce qu'on fait \"entrer\" dans la fonction) et une \"sortie\".\n",
    "\n",
    "Par exemple :"
   ]
  },
  {
   "cell_type": "code",
   "execution_count": null,
   "metadata": {},
   "outputs": [],
   "source": [
    "def f(x):               # f est le nom de la fonction, x est un argument de celle-ci\n",
    "    resultat = 3*x + 2  # Ici, nous avons le \"corps\" de la fonction, et nous utilisons l'argument \"x\"\n",
    "    return resultat     # Enfin, on renvoie le résultat en utilisant \"return\""
   ]
  },
  {
   "cell_type": "markdown",
   "metadata": {},
   "source": [
    "Assez parlé, nous allons voir comment créer les nôtres.\n",
    "\n",
    "Pour ce faire, nous allons utiliser la syntaxe suivante :\n",
    "\n",
    "![syntaxe_fonction](media/5/syntaxe_fonction.png \"media/5/syntaxe_fonction.png\")\n",
    "\n",
    "On peut très bien faire une fonction qui n'a pas de ligne `return` et qui n'a pas d'arguments. Elle doit cependant obligatoirement contenir une instruction (`print` par exemple, mais pas forcément).\n",
    "\n",
    "Il est évidemment possible d'utiliser une fonction à l'intérieur d'une autre fonction comme instruction.\n",
    "\n",
    "De plus, en Python, presque tout (entiers, flottants, listes, ... mais aussi les fonctions) peut être un argument.\n",
    "\n",
    "Voici un exemple :"
   ]
  },
  {
   "cell_type": "code",
   "execution_count": null,
   "metadata": {},
   "outputs": [],
   "source": [
    "num = 6\n",
    "\n",
    "def fois_3(n):\n",
    "    return n*3\n",
    "    \n",
    "fois_3(num)"
   ]
  },
  {
   "cell_type": "markdown",
   "metadata": {},
   "source": [
    "Un exemple un peu plus \"complexe\", avec plusieurs arguments et une valeur de retour :"
   ]
  },
  {
   "cell_type": "code",
   "execution_count": null,
   "metadata": {},
   "outputs": [],
   "source": [
    "n = \"Ajuelos\"\n",
    "p = \"Emmanuel\"\n",
    "a_n = 2000\n",
    "\n",
    "def is_emmanuel(nom, prenom, annee_naissance):\n",
    "    return (nom == \"Ajuelos\" and prenom == \"Emmanuel\" and annee_naissance == 2000) # On évalue l'expression booléenne, qui renvoie donc un booléen\n",
    "\n",
    "is_emmanuel(n, p, a_n)"
   ]
  },
  {
   "cell_type": "markdown",
   "metadata": {},
   "source": [
    "Et maintenant un exemple très basique, sans valeur de retour et sans arguments :"
   ]
  },
  {
   "cell_type": "code",
   "execution_count": null,
   "metadata": {},
   "outputs": [],
   "source": [
    "def oui():\n",
    "    print(\"oui\")\n",
    "\n",
    "oui()"
   ]
  },
  {
   "cell_type": "markdown",
   "metadata": {},
   "source": [
    "Enfin, un exemple tout aussi basique qui utilise une fonction comme instruction :"
   ]
  },
  {
   "cell_type": "code",
   "execution_count": null,
   "metadata": {},
   "outputs": [],
   "source": [
    "def plus_un(n):\n",
    "    return n+1\n",
    "\n",
    "def plus_un_fois_deux(n):\n",
    "    return plus_un(n) * 2\n",
    "\n",
    "plus_un_fois_deux(3)"
   ]
  },
  {
   "cell_type": "markdown",
   "metadata": {},
   "source": [
    "Passons à l'exercice.\n",
    "\n",
    "Un professeur a fait du code pour afficher des appréciations en fonction de la moyenne pour chaque élève de sa classe, mais ne connaît pas le concept de fonctions.\n",
    "\n",
    "Voici son code (attention les yeux):"
   ]
  },
  {
   "cell_type": "code",
   "execution_count": null,
   "metadata": {},
   "outputs": [],
   "source": [
    "moyenne_eleve_1 = 10.7\n",
    "prenom_eleve_1 = \"Jean\"\n",
    "\n",
    "if moyenne_eleve_1 < 10 :\n",
    "    print(\"Il faut fournir plus d'effort, \" + prenom_eleve_1 + \", car tes résultats ne te permettent pas de valider.\")\n",
    "elif moyenne_eleve_1 < 12 :\n",
    "    print(\"Tes résultats sont justes \" + prenom_eleve_1 + \", tu devrais faire attention lors de la relecture.\")\n",
    "elif moyenne_eleve_1 < 14 :\n",
    "    print(\"Des effort qui paient, \" + prenom_eleve_1 + \" ! Continue comme ça !\")\n",
    "elif moyenne_eleve_1 < 16 :\n",
    "    print(\"Un travail régulier et des résultats qui en témoignent. Il faudrait cependant revoir la rédaction - et ce sera alors excellent. Bravo, \" + prenom_eleve_1 + \".\")\n",
    "else :\n",
    "    print(\"D'excellents résultats \" + prenom_eleve_1 +\", rien à redire. Toutes mes félicitations.\")\n",
    "\n",
    "moyenne_eleve_2 = 9.9999\n",
    "prenom_eleve_2 = \"Charles\"\n",
    "\n",
    "if moyenne_eleve_2 < 10 :\n",
    "    print(\"Il faut fournir plus d'effort, \" + prenom_eleve_2 + \", car tes résultats ne te permettent pas de valider.\")\n",
    "elif moyenne_eleve_2 < 12 :\n",
    "    print(\"Tes résultats sont justes \" + prenom_eleve_2 + \", tu devrais faire attention lors de la relecture.\")\n",
    "elif moyenne_eleve_2 < 14 :\n",
    "    print(\"Des effort qui paient, \" + prenom_eleve_2 + \" ! Continue comme ça !\")\n",
    "elif moyenne_eleve_2 < 16 :\n",
    "    print(\"Un travail régulier et des résultats qui en témoignent. Il faudrait cependant revoir la rédaction - et ce sera alors excellent. Bravo, \" + prenom_eleve_2 + \".\")\n",
    "else :\n",
    "    print(\"D'excellents résultats \" + prenom_eleve_2 +\", rien à redire. Toutes mes félicitations.\")\n",
    "\n",
    "moyenne_eleve_3 = 17.27\n",
    "prenom_eleve_3 = \"Michel\"\n",
    "\n",
    "if moyenne_eleve_3 < 10 :\n",
    "    print(\"Il faut fournir plus d'effort, \" + prenom_eleve_3 + \", car tes résultats ne te permettent pas de valider.\")\n",
    "elif moyenne_eleve_3 < 12 :\n",
    "    print(\"Tes résultats sont justes \" + prenom_eleve_3 + \", tu devrais faire attention lors de la relecture.\")\n",
    "elif moyenne_eleve_3 < 14 :\n",
    "    print(\"Des effort qui paient, \" + prenom_eleve_3 + \" ! Continue comme ça !\")\n",
    "elif moyenne_eleve_3 < 16 :\n",
    "    print(\"Un travail régulier et des résultats qui en témoignent. Il faudrait cependant revoir la rédaction - et ce sera alors excellent. Bravo, \" + prenom_eleve_3 + \".\")\n",
    "else :\n",
    "    print(\"D'excellents résultats \" + prenom_eleve_3 +\", rien à redire. Toutes mes félicitations.\")\n",
    "\n",
    "moyenne_eleve_4 = 12.3\n",
    "prenom_eleve_4 = \"Paul\"\n",
    "\n",
    "if moyenne_eleve_4 < 10 :\n",
    "    print(\"Il faut fournir plus d'effort, \" + prenom_eleve_4 + \", car tes résultats ne te permettent pas de valider.\")\n",
    "elif moyenne_eleve_4 < 12 :\n",
    "    print(\"Tes résultats sont justes \" + prenom_eleve_4 + \", tu devrais faire attention lors de la relecture.\")\n",
    "elif moyenne_eleve_4 < 14 :\n",
    "    print(\"Des effort qui paient, \" + prenom_eleve_4 + \" ! Continue comme ça !\")\n",
    "elif moyenne_eleve_4 < 16 :\n",
    "    print(\"Un travail régulier et des résultats qui en témoignent. Il faudrait cependant revoir la rédaction - et ce sera alors excellent. Bravo, \" + prenom_eleve_4 + \".\")\n",
    "else :\n",
    "    print(\"D'excellents résultats \" + prenom_eleve_4 +\", rien à redire. Toutes mes félicitations.\")\n",
    "\n",
    "moyenne_eleve_5 = 15\n",
    "prenom_eleve_5 = \"Simon\"\n",
    "\n",
    "if moyenne_eleve_5 < 10 :\n",
    "    print(\"Il faut fournir plus d'effort, \" + prenom_eleve_5 + \", car tes résultats ne te permettent pas de valider.\")\n",
    "elif moyenne_eleve_5 < 12 :\n",
    "    print(\"Tes résultats sont justes \" + prenom_eleve_5 + \", tu devrais faire attention lors de la relecture.\")\n",
    "elif moyenne_eleve_5 < 14 :\n",
    "    print(\"Des effort qui paient, \" + prenom_eleve_5 + \" ! Continue comme ça !\")\n",
    "elif moyenne_eleve_5 < 16 :\n",
    "    print(\"Un travail régulier et des résultats qui en témoignent. Il faudrait cependant revoir la rédaction - et ce sera alors excellent. Bravo, \" + prenom_eleve_5 + \".\")\n",
    "else :\n",
    "    print(\"D'excellents résultats \" + prenom_eleve_5 +\", rien à redire. Toutes mes félicitations.\")"
   ]
  },
  {
   "cell_type": "markdown",
   "metadata": {},
   "source": [
    "Pour des raisons pratiques évidentes, nous coupons son code ici.\n",
    "\n",
    "Pourriez-vous créer la fonction `appreciation`, qui, en prenant en argument une moyenne et un prénom, affiche une appréciation en suivant le modèle du professeur ?"
   ]
  },
  {
   "cell_type": "code",
   "execution_count": null,
   "metadata": {},
   "outputs": [],
   "source": [
    "def appreciation(moyenne, prenom):\n",
    "    pass    # Retirez cette ligne\n",
    "\n",
    "# Ne pas changer le code ci-dessous, il sert à tester le vôtre\n",
    "from tests import test_appreciation\n",
    "\n",
    "test_appreciation(appreciation)"
   ]
  }
 ],
 "metadata": {
  "interpreter": {
   "hash": "bfb4883d108fc92ac768439090a2e92bb9a1f760a54beeecfd6762b5dcd70fe3"
  },
  "kernelspec": {
   "display_name": "Python 3.10.0 64-bit",
   "language": "python",
   "name": "python3"
  },
  "language_info": {
   "codemirror_mode": {
    "name": "ipython",
    "version": 3
   },
   "file_extension": ".py",
   "mimetype": "text/x-python",
   "name": "python",
   "nbconvert_exporter": "python",
   "pygments_lexer": "ipython3",
   "version": "3.10.0"
  },
  "orig_nbformat": 4
 },
 "nbformat": 4,
 "nbformat_minor": 2
}
