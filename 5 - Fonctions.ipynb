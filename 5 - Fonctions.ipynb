{
 "cells": [
  {
   "cell_type": "markdown",
   "metadata": {},
   "source": [
    "# Les Fonctions\n",
    "\n",
    "Pour l'instant, nous avons tapé plusieurs lignes, mais, au final, pour répéter une même suite d'actions à des endroits différents, nous sommes obligés de faire un copier-coller.\n",
    "\n",
    "Entre nous, ce n'est pas très propre. Et, évidemment, il y a une solution qui existe pour cela : les fonctions.\n",
    "\n",
    "Comme en mathématiques, les fonctions vont tout simplement répèter une suite d'instructions.\n",
    "\n",
    "Cependant, il y a des différences assez importantes, puisqu'en Python, nous pouvons avoir des fonctions qui n'ont pas d'arguments, et qui ne renvoient rien !\n",
    "\n",
    "Assez parlé, nous allons voir comment créer les nôtres."
   ]
  },
  {
   "cell_type": "markdown",
   "metadata": {},
   "source": [
    "Pour ce faire, nous allons utiliser la syntaxe suivante :\n",
    "\n",
    "![syntaxe_fonction](media/5/syntaxe_fonction.png \"media/5/syntaxe_fonction.png\")\n",
    "\n",
    "On peut très bien faire une fonction qui n'a pas de ligne `return` et qui n'a pas d'arguments. Elle doit cependant obligatoirement contenir une instruction (`return` ou même autre chose).\n",
    "\n",
    "Tout peut être un argument, et il est évidemment possible d'utiliser une fonction dans une autre fonction.\n",
    "\n",
    "Voici un exemple :"
   ]
  },
  {
   "cell_type": "code",
   "execution_count": null,
   "metadata": {},
   "outputs": [],
   "source": [
    "num = 6\n",
    "\n",
    "def fois_3(n):\n",
    "    return n*3\n",
    "    \n",
    "fois_3(num)"
   ]
  },
  {
   "cell_type": "markdown",
   "metadata": {},
   "source": [
    "Un exemple un peu plus \"complexe\", avec plusieurs arguments et une valeur de retour :"
   ]
  },
  {
   "cell_type": "code",
   "execution_count": null,
   "metadata": {},
   "outputs": [],
   "source": [
    "n = \"Ajuelos\"\n",
    "p = \"Emmanuel\"\n",
    "a_n = 2000\n",
    "\n",
    "def is_emmanuel(nom, prenom, annee_naissance):\n",
    "    return (nom == \"Ajuelos\" and prenom == \"Emmanuel\" and annee_naissance == 2000)\n",
    "\n",
    "is_emmanuel(n, p, a_n)"
   ]
  },
  {
   "cell_type": "markdown",
   "metadata": {},
   "source": [
    "Et maintenant un exemple très basique, sans valeur de retour et sans arguments :"
   ]
  },
  {
   "cell_type": "code",
   "execution_count": null,
   "metadata": {},
   "outputs": [],
   "source": [
    "def oui():\n",
    "    print(\"oui\")\n",
    "\n",
    "oui()"
   ]
  },
  {
   "cell_type": "markdown",
   "metadata": {},
   "source": [
    "Dans ce fichier, je ne pense pas qu'il soit intéressant de donner un exercice, car vous n'avez pas appris quelque chose de si \"nouveau\".\n",
    "\n",
    "Le concept est très important, et il est presque obligatoire de faire des fonctions dès que l'on veut faire du code réutilisable facilement."
   ]
  }
 ],
 "metadata": {
  "interpreter": {
   "hash": "bfb4883d108fc92ac768439090a2e92bb9a1f760a54beeecfd6762b5dcd70fe3"
  },
  "kernelspec": {
   "display_name": "Python 3.10.0 64-bit",
   "language": "python",
   "name": "python3"
  },
  "language_info": {
   "codemirror_mode": {
    "name": "ipython",
    "version": 3
   },
   "file_extension": ".py",
   "mimetype": "text/x-python",
   "name": "python",
   "nbconvert_exporter": "python",
   "pygments_lexer": "ipython3",
   "version": "3.10.0"
  },
  "orig_nbformat": 4
 },
 "nbformat": 4,
 "nbformat_minor": 2
}
