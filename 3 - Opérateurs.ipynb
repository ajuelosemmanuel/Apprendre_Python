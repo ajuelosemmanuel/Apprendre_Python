{
 "cells": [
  {
   "cell_type": "markdown",
   "metadata": {},
   "source": [
    "# Les opérateurs\n",
    "\n",
    "Maintenant que nous avons vu quelques types de données et les listes, nous allons passer aux opérateurs, c'est à dire `+`, `*`, etc, afin d'effectuer des opérations sur et avec nos variables.\n",
    "\n",
    "## Les opérateurs arithmétiques\n",
    "\n",
    "On peut utiliser l'addition (`+`), la soustraction (`-`), la multiplication (`*`), et la division (`/`) avec des nombres :"
   ]
  },
  {
   "cell_type": "code",
   "execution_count": null,
   "metadata": {},
   "outputs": [],
   "source": [
    "nombre = 1 + 2.0 * 3 / 4\n",
    "print(nombre)"
   ]
  },
  {
   "cell_type": "markdown",
   "metadata": {},
   "source": [
    "Au vu du résultat, vous pouvez constater que python suit un ordre précis dans les opérations, dit \"PEMDAS\":\n",
    "+ Parenthèses (qui ont donc la plus haute priorité)\n",
    "+ Exposants\n",
    "+ Multiplication et Division (qui ont la même priorité)\n",
    "+ Addition et Soustraction (qui ont la même priorité)\n",
    "\n",
    "Un autre opérateur sur les nombres est le modulo `%` qui renvoie le reste de la division euclidienne d'un nombre par un autre :"
   ]
  },
  {
   "cell_type": "code",
   "execution_count": null,
   "metadata": {},
   "outputs": [],
   "source": [
    "print(37 % 3)"
   ]
  },
  {
   "cell_type": "markdown",
   "metadata": {},
   "source": [
    "On peut aussi mettre un nombre à la puissance en utilisant deux fois le signe multiplier :"
   ]
  },
  {
   "cell_type": "code",
   "execution_count": null,
   "metadata": {},
   "outputs": [],
   "source": [
    "print(7**2)"
   ]
  },
  {
   "cell_type": "markdown",
   "metadata": {},
   "source": [
    "## Opérateurs et chaînes de caratères\n",
    "\n",
    "Il est aussi possible d'utiliser les opérateurs avec les chaînes de caratères pour :\n",
    "+ Concaténer (\"coller\") deux chaînes de caratères, en utilisant `+`\n",
    "+ Répéter une chaîne un certain nombre de fois avec `*`"
   ]
  },
  {
   "cell_type": "code",
   "execution_count": null,
   "metadata": {},
   "outputs": [],
   "source": [
    "print(\"je\" + \" \" + \"suis\" + \" en train de taper\")\n",
    "\n",
    "print(\"Je ne me répète pas.\" * 5)"
   ]
  },
  {
   "cell_type": "markdown",
   "metadata": {},
   "source": [
    "## Opérateurs et listes\n",
    "\n",
    "On peut joindre deux listes avec l'opérateur \"+\" et, comme avec les listes, on peut répéter une séquence avec `*`."
   ]
  },
  {
   "cell_type": "code",
   "execution_count": null,
   "metadata": {},
   "outputs": [],
   "source": [
    "pairs = [2, 4, 6, 8]\n",
    "impairs = [1, 3, 5, 7]\n",
    "les_deux = pairs + impairs\n",
    "print(les_deux)\n",
    "\n",
    "print([1,2,3] * 3)"
   ]
  },
  {
   "cell_type": "markdown",
   "metadata": {},
   "source": [
    "Pour finir, comme d'habitude, un petit test :\n",
    "\n",
    "Votre objectif est de créer deux listes `three_list` et `pattern_list` qui contiennent respectivement 10 fois `3` et 10 fois `\"abc\"` en utilisant les opérateurs, puis de créer la liste `grande_liste` qui est la concaténation des deux précédentes."
   ]
  },
  {
   "cell_type": "code",
   "execution_count": null,
   "metadata": {},
   "outputs": [],
   "source": [
    "# Changez le code ici\n",
    "three_list = None\n",
    "pattern_list = None\n",
    "\n",
    "# Ne pas changer le code ci-dessous, il sert à tester le vôtre\n",
    "from tests import operateurs\n",
    "\n",
    "operateurs(three_list, pattern_list)"
   ]
  }
 ],
 "metadata": {
  "interpreter": {
   "hash": "dcacb0086e9a4f4eabd41c33bf4faac5ea0a3337ed3f5eff0680afa930572c04"
  },
  "kernelspec": {
   "display_name": "Python 3.9.1 64-bit",
   "name": "python3"
  },
  "language_info": {
   "codemirror_mode": {
    "name": "ipython",
    "version": 3
   },
   "file_extension": ".py",
   "mimetype": "text/x-python",
   "name": "python",
   "nbconvert_exporter": "python",
   "pygments_lexer": "ipython3",
   "version": "3.9.1"
  },
  "orig_nbformat": 4
 },
 "nbformat": 4,
 "nbformat_minor": 2
}
