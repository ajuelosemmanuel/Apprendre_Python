{
 "cells": [
  {
   "cell_type": "markdown",
   "metadata": {},
   "source": [
    "# Les librairies\n",
    "\n",
    "Pour finir cette introduction très brève au langage Python, nous allons parler des librairies.\n",
    "\n",
    "## Qu'est-ce que c'est ?\n",
    "\n",
    "Une librairie est un ensemble de fonctions, d'objets, de classes,... qui permettent de travailler sur un \"thème\" particulier. Il existe une très grande variété de librairies pour Python.\n",
    "\n",
    "## Comment utiliser une librairie ?\n",
    "\n",
    "Nous allons, dans un premier temps, voir comment on utilise une librairie dans notre code.\n",
    "\n",
    "Une librairie très utilisée est `math` qui contient, comme son nom l'indique, de faire des choses liées aux mathématiques.\n",
    "\n",
    "Voici un exemple :"
   ]
  },
  {
   "cell_type": "code",
   "execution_count": null,
   "metadata": {},
   "outputs": [],
   "source": [
    "import math\n",
    "\n",
    "print(\"La racine carrée de 4 est : \" + str(math.sqrt(4)))\n",
    "\n",
    "print(\"La partie entière de 3.5 est : \" + str(math.trunc(3.5)))"
   ]
  },
  {
   "cell_type": "markdown",
   "metadata": {},
   "source": [
    "Comme vous pouvez l'observer, on précise le nom de la bibliothèque, on rajoute un point et on donne le nom de la fonction (cela marche aussi avec les classes, objets, etc) que l'on souhaite utiliser.\n",
    "\n",
    "On peut aussi renommer la librairie lors de l'import :"
   ]
  },
  {
   "cell_type": "code",
   "execution_count": null,
   "metadata": {},
   "outputs": [],
   "source": [
    "import math as m\n",
    "\n",
    "print(\"La racine carrée de 4 est : \" + str(m.sqrt(4)))\n",
    "\n",
    "print(\"La partie entière de 3.5 est : \" + str(m.trunc(3.5)))"
   ]
  },
  {
   "cell_type": "markdown",
   "metadata": {},
   "source": [
    "Il est aussi possible de n'importer qu'une seule fonction, avec la syntaxe suivante :"
   ]
  },
  {
   "cell_type": "code",
   "execution_count": null,
   "metadata": {},
   "outputs": [],
   "source": [
    "from math import sqrt\n",
    "\n",
    "print(\"La racine carrée de 4 est : \" + str(sqrt(4)))"
   ]
  },
  {
   "cell_type": "markdown",
   "metadata": {},
   "source": [
    "## Comment télécharger une librairie ?\n",
    "\n",
    "Certaines librairies (comme `math`) sont déjà installées de base avec Python, mais il en existe une très grande quantité sur internet, et sur plein de sujets différents !\n",
    "\n",
    "Pour en télécharger, il suffit d'utiliser la commande suivante (sans les crochets) :\n",
    "\n",
    "Windows : `py -m pip install [UneLibrarie]`\n",
    "\n",
    "Linux : `pip install [UneLibrarie]`\n",
    "\n",
    "Nous allons essayer ça tout de suite en installant Pillow, qui permet de dessiner des choses :"
   ]
  },
  {
   "cell_type": "code",
   "execution_count": null,
   "metadata": {},
   "outputs": [],
   "source": [
    "!py -m pip install qrcode[pil]"
   ]
  },
  {
   "cell_type": "markdown",
   "metadata": {},
   "source": [
    "Observons ce qu'elle peut faire..."
   ]
  },
  {
   "cell_type": "code",
   "execution_count": null,
   "metadata": {},
   "outputs": [],
   "source": [
    "import qrcode\n",
    "\n",
    "img = qrcode.make('https://www.youtube.com/watch?v=dQw4w9WgXcQ')\n",
    "display(img)"
   ]
  },
  {
   "cell_type": "markdown",
   "metadata": {},
   "source": [
    "Pas mal pour une ligne !\n",
    "\n",
    "Il y a évidemment trop de librairies pour passer un moment sur chacune d'entre elles, mais vous pouvez tout à fait en chercher par vous-même.\n",
    "\n",
    "Aussi vous aurez remarqué que, dans ces \"cours\", on utilisait déjà `import` plus tôt, mais avec un fichier local. En effet, il est possible de créer soi-même ses librairies, et de les utiliser dans des projets de manière locale.\n",
    "\n",
    "Et c'est ici que s'achève ce mini-cours d'introduction à Python !\n",
    "\n",
    "J'espère qu'il vous aura plu, n'hésitez pas à me dire comment l'améliorer, car il n'est probablement pas parfait !\n",
    "\n",
    "Pour aller plus loin, je vous conseille de regarder le fichier `README.md` qui donne quelques pistes pour apprendre \"tout seul\" (vous pouvez évidemment poser des questions, mais comme ça vous pourrez aussi apprendre à la maison !)"
   ]
  }
 ],
 "metadata": {
  "kernelspec": {
   "display_name": "Python 3.10.5 64-bit",
   "language": "python",
   "name": "python3"
  },
  "language_info": {
   "codemirror_mode": {
    "name": "ipython",
    "version": 3
   },
   "file_extension": ".py",
   "mimetype": "text/x-python",
   "name": "python",
   "nbconvert_exporter": "python",
   "pygments_lexer": "ipython3",
   "version": "3.10.5"
  },
  "orig_nbformat": 4,
  "vscode": {
   "interpreter": {
    "hash": "a42ccb73e7d9bfdf27e036f1d2b8b681e55fc0743cc5586bc2474d4a60f4b886"
   }
  }
 },
 "nbformat": 4,
 "nbformat_minor": 2
}
