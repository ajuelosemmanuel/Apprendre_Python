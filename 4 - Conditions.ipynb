{
 "cells": [
  {
   "cell_type": "markdown",
   "metadata": {},
   "source": [
    "# Les Conditions\n",
    "\n",
    "En Python, on utilise la [logique de Boole](https://fr.wikipedia.org/wiki/Alg%C3%A8bre_de_Boole_(logique)) pour évaluer les conditions. Cela permet par exemple de comparer deux valeurs puis de \"prendre une décision\". La comparaison de deux valeurs renvoie soit `True` (vrai), soit `False` (faux). Par exemple :"
   ]
  },
  {
   "cell_type": "code",
   "execution_count": null,
   "metadata": {},
   "outputs": [],
   "source": [
    "# On initialise la variable x pour ensuite faire des tests avec\n",
    "x = 2\n",
    "\n",
    "# Égalité\n",
    "print(x == 2)   # Vrai\n",
    "\n",
    "# Inégalité\n",
    "print(x != 2)   # Faux\n",
    "\n",
    "# Égalité (encore)\n",
    "print(x == 3)   # Faux\n",
    "\n",
    "# Comparaison (strictement inférieur / supérieur à)\n",
    "print(x < 3)    # Vrai\n",
    "\n",
    "print(x > 2)    # Faux\n",
    "\n",
    "# Comparaison (inférieur / supérieur ou égal à)\n",
    "\n",
    "print(x <= 3)    # Vrai\n",
    "\n",
    "print(x >= 2)    # Vrai"
   ]
  },
  {
   "cell_type": "markdown",
   "metadata": {},
   "source": [
    "## Instruction If\n",
    "\n",
    "Pour prendre une \"décision\" en Python, nous utilisons `if/else` (qui se traduit en français par \"si/sinon\"). Elle suit la syntaxe suivante :\n",
    "\n",
    "![ifelse](media/4/ifelse.png \"media/4/ifelse.png\")\n",
    "\n",
    "Notez que la partie avec `else` est facultative, on peut choisir de ne rien faire.\n",
    "\n",
    "Deux exemples :"
   ]
  },
  {
   "cell_type": "code",
   "execution_count": null,
   "metadata": {},
   "outputs": [],
   "source": [
    "if 3 == 4 :\n",
    "    print(\"Quelque chose ne va pas du tout\")\n",
    "else :\n",
    "    print(\"Imaginez le monde si 3 était égal à 4\")\n",
    "\n",
    "if (2 + 3) == 4 :\n",
    "    print(\"Quick maths\")"
   ]
  },
  {
   "cell_type": "markdown",
   "metadata": {},
   "source": [
    "## D'autres opérateurs booléens\n",
    "\n",
    "On peut aussi chercher si deux conditions sont remplies, ou même si au moins une des deux l'est. C'est pour cela qu'il existe les opérateurs `and` (et) et `or` (ou). Voici un exemple :"
   ]
  },
  {
   "cell_type": "code",
   "execution_count": null,
   "metadata": {},
   "outputs": [],
   "source": [
    "colo = \"Dev Info\"\n",
    "annee = 2021\n",
    "\n",
    "if colo == \"Dev Info\" and annee == 2021:\n",
    "    print(\"Un anim s'appelle Manu !\")\n",
    "\n",
    "if annee == 2021 or annee == -480:\n",
    "    print(\"De deux choses l'une : soit nous sommes en colo à Montauban, soit les spartiates se battent aux Thermopyles...\")"
   ]
  },
  {
   "cell_type": "markdown",
   "metadata": {},
   "source": [
    "## Opérateur \"in\"\n",
    "\n",
    "Pour vérifier si un élément appartient à une liste (ou à un autre objet qui peut contenir plusieurs informations... à regarder [ici](https://zestedesavoir.com/tutoriels/954/notions-de-python-avancees/1-starters/2-iterables/) si vous êtes curieux ;) ), on utilise l'opérateur `in`. Celui-ci renvoie `True` si l'élément est dans la liste, et `False` sinon."
   ]
  },
  {
   "cell_type": "code",
   "execution_count": null,
   "metadata": {},
   "outputs": [],
   "source": [
    "anim = \"Plasma\"\n",
    "animsPython = [\"Akeno\", \"Manu\", \"Plasma\", \"Dexes\"]\n",
    "\n",
    "if anim in animsPython :\n",
    "    print(\"Un anim Python dans un atelier Python ? Bizarre...\")"
   ]
  },
  {
   "cell_type": "markdown",
   "metadata": {},
   "source": [
    "## Opérateur \"not\"\n",
    "\n",
    "Cet opérateur, comme vous pouvez le deviner, va renvoyer la négation d'une expression booléenne ! Je pense qu'un exemple n'est pas forcément utile, passons alors à l'exercice !\n",
    "\n",
    "Le but de l'exercice est de changer les valeurs de `x`, `y`, `liste_1` et `liste_2` pour que les conditions soient respectées.\n",
    "\n",
    "Si c'est le cas, la suite de chiffres `1`, `2`, `3`, `4`, `5`, `6` sera affichée, et vous pourrez passer au fichier suivant, qui portera sur les fonctions !"
   ]
  },
  {
   "cell_type": "code",
   "execution_count": null,
   "metadata": {},
   "outputs": [],
   "source": [
    "# Changez les valeurs ici\n",
    "x = 10\n",
    "y = 10\n",
    "liste_1 = []\n",
    "liste_2 = [1,2,3]\n",
    "\n",
    "# Ne pas changer le code ci-dessous, c'est l'énoncé\n",
    "if x > 15:\n",
    "    print(\"1\")\n",
    "\n",
    "if liste_1:\n",
    "    print(\"2\")\n",
    "\n",
    "if len(liste_2) == 2:\n",
    "    print(\"3\")\n",
    "\n",
    "if len(liste_1) + len(liste_2) == 5:\n",
    "    print(\"4\")\n",
    "\n",
    "if liste_1 and liste_1[0] == 1:\n",
    "    print(\"5\")\n",
    "\n",
    "if not y:\n",
    "    print(\"6\")"
   ]
  }
 ],
 "metadata": {
  "interpreter": {
   "hash": "dcacb0086e9a4f4eabd41c33bf4faac5ea0a3337ed3f5eff0680afa930572c04"
  },
  "kernelspec": {
   "display_name": "Python 3.9.1 64-bit",
   "name": "python3"
  },
  "language_info": {
   "codemirror_mode": {
    "name": "ipython",
    "version": 3
   },
   "file_extension": ".py",
   "mimetype": "text/x-python",
   "name": "python",
   "nbconvert_exporter": "python",
   "pygments_lexer": "ipython3",
   "version": "3.9.1"
  },
  "orig_nbformat": 4
 },
 "nbformat": 4,
 "nbformat_minor": 2
}
