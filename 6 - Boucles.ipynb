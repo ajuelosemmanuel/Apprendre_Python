{
 "cells": [
  {
   "cell_type": "markdown",
   "metadata": {},
   "source": [
    "# Les boucles\n",
    "\n",
    "Pour finir cette introduction très brève au langage Python, nous allons voir les boucles - il y en a deux : `while` et `for`.\n",
    "\n",
    "## While\n",
    "\n",
    "La boucle `while` se traduit par \"tant que\" en français. Elle répète le morceau de code qu'elle contient tant que sa condition n'est pas remplie. Par exemple :"
   ]
  },
  {
   "cell_type": "code",
   "execution_count": null,
   "metadata": {},
   "outputs": [],
   "source": [
    "compteur = 0\n",
    "\n",
    "while compteur < 5 :\n",
    "    print(compteur)\n",
    "    compteur += 1   # faire compteur += 1 revient à faire compteur = compteur + 1"
   ]
  },
  {
   "cell_type": "markdown",
   "metadata": {},
   "source": [
    "## For\n",
    "\n",
    "La boucle `for` se traduit quant à elle par \"pour _ allant de _ à _\" - cela veut dire qu'elle va parcourir un ensemble de valeurs. Il y a plusieurs manières de spécifier cet ensemble de valeurs, que nous allons montrer dans l'exemple ci dessous :"
   ]
  },
  {
   "cell_type": "code",
   "execution_count": null,
   "metadata": {},
   "outputs": [],
   "source": [
    "# Premier exemple : range\n",
    "\n",
    "for i in range(0,5):\n",
    "    print(i)"
   ]
  },
  {
   "cell_type": "markdown",
   "metadata": {},
   "source": [
    "Ici, on utilise `range` qui permet d'aller d'une valeur a (comprise dans l'ensemble) à une valeur b (non comprise)."
   ]
  },
  {
   "cell_type": "code",
   "execution_count": null,
   "metadata": {},
   "outputs": [],
   "source": [
    "quelques_grecs = [\"Euclide\", \"Archimède\", \"Pythagore\", \"Thalès\", \"Diophante\", \"Miltiade\"]\n",
    "\n",
    "for grec in quelques_grecs :\n",
    "    print(\"Voici un grec : \" + grec)"
   ]
  },
  {
   "cell_type": "markdown",
   "metadata": {},
   "source": [
    "On peut aussi travailler sur une liste directement !\n",
    "\n",
    "Passons maintenant à l'exercice...\n",
    "\n",
    "Votre mission sera de faire une fonction qui affiche tous les nombres impairs positifs inférieurs à un nombre donné de deux manières : une fois avec `while` et une fois avec `for`."
   ]
  },
  {
   "cell_type": "code",
   "execution_count": null,
   "metadata": {},
   "outputs": [],
   "source": [
    "# Version While\n",
    "def func(n):\n",
    "    pass\n",
    "\n",
    "# Ne pas changer le code ci-dessous, il sert à tester le vôtre\n",
    "from tests import boucles_while\n",
    "\n",
    "boucles_while(func)"
   ]
  },
  {
   "cell_type": "code",
   "execution_count": null,
   "metadata": {},
   "outputs": [],
   "source": [
    "# Version For\n",
    "def func(n):\n",
    "    pass\n",
    "\n",
    "# Ne pas changer le code ci-dessous, il sert à tester le vôtre\n",
    "from tests import boucles_for\n",
    "\n",
    "boucles_for(func)"
   ]
  }
 ],
 "metadata": {
  "interpreter": {
   "hash": "dcacb0086e9a4f4eabd41c33bf4faac5ea0a3337ed3f5eff0680afa930572c04"
  },
  "kernelspec": {
   "display_name": "Python 3.9.1 64-bit",
   "name": "python3"
  },
  "language_info": {
   "codemirror_mode": {
    "name": "ipython",
    "version": 3
   },
   "file_extension": ".py",
   "mimetype": "text/x-python",
   "name": "python",
   "nbconvert_exporter": "python",
   "pygments_lexer": "ipython3",
   "version": "3.9.7"
  },
  "orig_nbformat": 4
 },
 "nbformat": 4,
 "nbformat_minor": 2
}
