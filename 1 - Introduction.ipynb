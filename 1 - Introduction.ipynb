{
 "cells": [
  {
   "cell_type": "markdown",
   "metadata": {},
   "source": [
    "# Introduction au langage Python\n",
    "\n",
    "## Un langage de programmation, qu'est-ce que c'est ?\n",
    "\n",
    "Un langage de programmation permet à un humain d'écrire quelque chose que la machine peut \"comprendre\". Celui ci est composé d'un ensemble d'instructions et a une syntaxe (un ensemble de règles)- comme pour une véritable langue.\n",
    "\n",
    "## Pourquoi Python ?\n",
    "\n",
    "Python est un langage très simple, qui a une syntaxe toute aussi simple, ce qui est parfait pour débuter !\n",
    "\n",
    "Nous verrons ici les bases du langage, pour que vous puissiez avancer par vous-même.\n",
    "\n",
    "\n",
    "## Hello, World!\n",
    "\n",
    "Passage obligé, nous allons tout d'abord apprendre comment afficher quelque chose sur la console.\n",
    "\n",
    "Pour ce faire, nous utilisons l'instruction `print`. Voici un exemple (appuyez sur la flèche à gauche du code, qui s'affiche quand vous le survolez) :"
   ]
  },
  {
   "cell_type": "code",
   "execution_count": null,
   "metadata": {},
   "outputs": [],
   "source": [
    "print(\"Quelle belle journée pour apprendre Python !\")"
   ]
  },
  {
   "cell_type": "markdown",
   "metadata": {},
   "source": [
    "Maintenant, utilisez `print` pour afficher \"Hello, World!\" sur la console."
   ]
  },
  {
   "cell_type": "code",
   "execution_count": null,
   "metadata": {},
   "outputs": [],
   "source": []
  },
  {
   "cell_type": "markdown",
   "metadata": {},
   "source": [
    "Une fois cela fait, vous pouvez passer à la suite - cependant, s'il y a un quelconque problème, regardez en premier lieu [ce fichier](Si_vous_êtes_bloqués.md) (attention, si vous regardez ce fichier depuis la preview de github, il est possible que le lien ne marche pas) - si vous ne trouvez pas la réponse, n'hésitez surtout pas à poser des questions, que ce soit sur discord ou par un autre moyen.\n",
    "\n",
    "## Les Types de Variables\n",
    "\n",
    "Ici, nous allons voir quelques types de variables.\n",
    "\n",
    "**Si vous avez déjà travaillé avec un autre langage de programmation** : En Python, contrairement à d'autres langages, il n'est pas nécessaire de déclarer (c'est à dire \"annoncer\" le type et le nom de la variable) des variables avant de les utiliser, ni même de déclarer leur type.\n",
    "\n",
    "### Les nombres\n",
    "\n",
    "En Python, il y a deux types de nombres :\n",
    " + Les entiers (integers en anglais), c'est à dire les nombres \"ronds\", sans partie décimale\n",
    " + Les flottants (floating point numbers en anglais, ou plus souvent float), qui sont, en gros, les décimaux.\n",
    "\n",
    "Pour définir un entier, on utilise la syntaxe suivante :"
   ]
  },
  {
   "cell_type": "code",
   "execution_count": null,
   "metadata": {},
   "outputs": [],
   "source": [
    "mon_entier = 3\n",
    "\n",
    "print(mon_entier)"
   ]
  },
  {
   "cell_type": "markdown",
   "metadata": {},
   "source": [
    "Sur la première ligne, nous avons déclaré la variable `mon_entier`, que nous avons donc initialisée à 3. Nous avons ensuite affiché la valeur en utilisant `print`.\n",
    "\n",
    "Pour les flottants, la syntaxe est sensiblement la même :"
   ]
  },
  {
   "cell_type": "code",
   "execution_count": null,
   "metadata": {},
   "outputs": [],
   "source": [
    "mon_flottant = 3.0\n",
    "\n",
    "print(mon_flottant)"
   ]
  },
  {
   "cell_type": "markdown",
   "metadata": {},
   "source": [
    "Nous pouvons aussi forcer la conversion d'un nombre entier à flottant :"
   ]
  },
  {
   "cell_type": "code",
   "execution_count": null,
   "metadata": {},
   "outputs": [],
   "source": [
    "mon_flottant_2 = float(3)\n",
    "\n",
    "print(mon_flottant_2)"
   ]
  },
  {
   "cell_type": "markdown",
   "metadata": {},
   "source": [
    "### Les chaînes de caractères\n",
    "\n",
    "Les chaînes de caractères (ou strings en anglais) servent, comme leur nom l'indique, à contenir une suite de caractères.\n",
    "\n",
    "On peut les définir en utilisant des apostrophes `'` ou des guillemets `\"`. Je vous conseille d'utiliser des guillemets, car avec des apostrophes il est moins facile d'avoir un apostrophe dans le texte.\n",
    "\n",
    "Exemple :"
   ]
  },
  {
   "cell_type": "code",
   "execution_count": null,
   "metadata": {},
   "outputs": [],
   "source": [
    "ma_chaine = 'super'\n",
    "\n",
    "print(ma_chaine)\n",
    "\n",
    "ma_chaine_2 = \"super\"\n",
    "\n",
    "print(ma_chaine_2)\n",
    "\n",
    "ma_chaine_3 = \"j'aime les apostrophes\"\n",
    "\n",
    "print(ma_chaine_3)\n",
    "print(len(ma_chaine_3))"
   ]
  },
  {
   "cell_type": "markdown",
   "metadata": {},
   "source": [
    "Pour information, il y a d'autres manières de définir une chaîne de caractères pour des cas très spécifiques, et nous n'allons pas passer de temps sur ça ici - mais au cas où, vous pouvez trouver des informations dessus [ici](https://docs.python.org/3/tutorial/introduction.html#strings).\n",
    "\n",
    "Pour voir si vous avez compris, vous allez créer une chaîne de caractères, un flottant et un décimal, en changeant le code ci-dessous :"
   ]
  },
  {
   "cell_type": "code",
   "execution_count": null,
   "metadata": {},
   "outputs": [],
   "source": [
    "# Changez le code ici\n",
    "# D'ailleurs, vous aurez remarqué que ce qui est écrit ici n'est pas pris en compte par le code. C'est parce que c'est un commentaire.\n",
    "# Un commentaire permet de donner plus d'information sur le code directement dans celui-ci, sans interférer pour autant.\n",
    "\n",
    "une_chaine = None\n",
    "un_entier = None\n",
    "un_flottant = None\n",
    "\n",
    "# Ne pas changer le code ci-dessous, il sert à tester le vôtre\n",
    "from tests import introduction\n",
    "\n",
    "introduction(une_chaine, un_entier, un_flottant)"
   ]
  }
 ],
 "metadata": {
  "interpreter": {
   "hash": "f854bcb575e915103894bd7f44930a9f40ce75b32200b139015af43844dcd0e2"
  },
  "kernelspec": {
   "display_name": "Python 3.10.0 64-bit (system)",
   "name": "python3"
  },
  "language_info": {
   "codemirror_mode": {
    "name": "ipython",
    "version": 3
   },
   "file_extension": ".py",
   "mimetype": "text/x-python",
   "name": "python",
   "nbconvert_exporter": "python",
   "pygments_lexer": "ipython3",
   "version": "3.10.0"
  },
  "orig_nbformat": 4
 },
 "nbformat": 4,
 "nbformat_minor": 2
}
