{
 "cells": [
  {
   "cell_type": "markdown",
   "metadata": {},
   "source": [
    "# Les listes\n",
    "\n",
    "Pour stocker plusieurs données dans une seule variable, plusieurs options sont possibles en Python. Une des plus utilisées est la liste.\n",
    "\n",
    "Une liste peut contenir n'importe quel type de variable ou de donnée, et autant que vous voulez.\n",
    "\n",
    "On initialise une liste comme ceci :"
   ]
  },
  {
   "cell_type": "code",
   "execution_count": null,
   "metadata": {},
   "outputs": [],
   "source": [
    "ma_liste = []"
   ]
  },
  {
   "cell_type": "markdown",
   "metadata": {},
   "source": [
    "On peut ajouter des éléments dedans comme suit :"
   ]
  },
  {
   "cell_type": "code",
   "execution_count": null,
   "metadata": {},
   "outputs": [],
   "source": [
    "ma_liste.append(5)"
   ]
  },
  {
   "cell_type": "markdown",
   "metadata": {},
   "source": [
    "En faisant `liste.append`, vous ajoutez un élément à la fin de celle-ci.\n",
    "\n",
    "Nous allons ajouter d'autres éléments puis accéder à l'un d'entre eux."
   ]
  },
  {
   "cell_type": "code",
   "execution_count": null,
   "metadata": {},
   "outputs": [],
   "source": [
    "ma_liste.append(1)\n",
    "ma_liste.append(6)\n",
    "ma_liste.append(\"oui\")\n",
    "ma_liste.append(\"a\")\n",
    "ma_liste.append(7.5)\n",
    "\n",
    "print(ma_liste[3]) # Ici, on affiche le 4ème élément de la liste (car on compte à partir de 0, en python). On suit la syntaxe suivante : nom_liste[index] - index étant un entier."
   ]
  },
  {
   "cell_type": "markdown",
   "metadata": {},
   "source": [
    "Essayer d'accéder à un élément qui n'est pas dans la liste (en faisant `liste[i]`, i plus grand que la taille de la liste) entraînera une erreur.\n",
    "\n",
    "Vous pouvez vous représenter la liste de la manière suivante :\n",
    "\n",
    "Élément | 5 | 1 | 6 | \"oui\" | \"a\" | 7.5 |\n",
    "--------|---|---|---|-------|-----|-----|\n",
    "Index | 0 | 1 | 2 | 3 | 4 | 5 |"
   ]
  },
  {
   "cell_type": "markdown",
   "metadata": {},
   "source": [
    "Parce que vous devez vous demander comment on connait la taille d'une liste, voici la commande :"
   ]
  },
  {
   "cell_type": "code",
   "execution_count": null,
   "metadata": {},
   "outputs": [],
   "source": [
    "len(ma_liste) # Vous remarquerez que la taille d'une liste est l'index du dernier élément plus 1 - ce qui fait sens puisque l'on compte à partir de 0."
   ]
  },
  {
   "cell_type": "markdown",
   "metadata": {},
   "source": [
    "Pour vérifier si vous avez bien compris, voici un petit exercice :\n",
    "\n",
    "Il faut compléter le code ci-dessous pour que :\n",
    "+ la liste \"chiffres\" contienne les chiffres de 1 à 4\n",
    "+ la liste \"noms\" contienne les chaînes de caractères suivantes : \"Lovelace\", \"Hamilton\", \"Van Rossum\" et \"Ritchie\" (dans cet ordre)"
   ]
  },
  {
   "cell_type": "code",
   "execution_count": null,
   "metadata": {},
   "outputs": [],
   "source": [
    "# Changez le code ici\n",
    "chiffres = None\n",
    "noms = None\n",
    "\n",
    "# Ne pas changer le code ci-dessous, il sert à tester le vôtre\n",
    "from tests import listes\n",
    "\n",
    "listes(chiffres, noms)"
   ]
  }
 ],
 "metadata": {
  "interpreter": {
   "hash": "dcacb0086e9a4f4eabd41c33bf4faac5ea0a3337ed3f5eff0680afa930572c04"
  },
  "kernelspec": {
   "display_name": "Python 3.9.1 64-bit",
   "name": "python3"
  },
  "language_info": {
   "codemirror_mode": {
    "name": "ipython",
    "version": 3
   },
   "file_extension": ".py",
   "mimetype": "text/x-python",
   "name": "python",
   "nbconvert_exporter": "python",
   "pygments_lexer": "ipython3",
   "version": "3.10.0"
  },
  "orig_nbformat": 4
 },
 "nbformat": 4,
 "nbformat_minor": 2
}
